{
 "cells": [
  {
   "cell_type": "code",
   "execution_count": 77,
   "id": "93412ea9-00bb-46b6-a76c-4ffb6e77be34",
   "metadata": {},
   "outputs": [],
   "source": [
    "import pandas as pd\n",
    "from pathlib import Path\n",
    "\n",
    "RAW = Path(\"../data/raw\")        # where your CSVs are\n",
    "PROC = Path(\"../data/processed\") # where we'll save outputs\n",
    "PROC.mkdir(parents=True, exist_ok=True)\n",
    "\n",
    "charts_path = RAW / \"Hot Stuff.csv\"\n",
    "feats_path  = RAW / \"Hot 100 Audio Features.csv\""
   ]
  },
  {
   "cell_type": "code",
   "execution_count": 78,
   "id": "e6edabf4-5aa0-4c40-8ec9-c1b7ceb52966",
   "metadata": {},
   "outputs": [
    {
     "name": "stdout",
     "output_type": "stream",
     "text": [
      "CHARTS shape: (327895, 11)\n",
      "FEATURES shape: (29503, 23)\n",
      "\n",
      "CHARTS columns:\n",
      "['index', 'url', 'WeekID', 'Week Position', 'Song', 'Performer', 'SongID', 'Instance', 'Previous Week Position', 'Peak Position', 'Weeks on Chart']\n",
      "\n",
      "FEATURES columns:\n",
      "['index', 'SongID', 'Performer', 'Song', 'spotify_genre', 'spotify_track_id', 'spotify_track_preview_url', 'spotify_track_duration_ms', 'spotify_track_explicit', 'spotify_track_album', 'danceability', 'energy', 'key', 'loudness', 'mode', 'speechiness', 'acousticness', 'instrumentalness', 'liveness', 'valence', 'tempo', 'time_signature', 'spotify_track_popularity']\n"
     ]
    }
   ],
   "source": [
    "charts = pd.read_csv(charts_path)\n",
    "feats  = pd.read_csv(feats_path)\n",
    "\n",
    "print(\"CHARTS shape:\", charts.shape)\n",
    "print(\"FEATURES shape:\", feats.shape)\n",
    "\n",
    "print(\"\\nCHARTS columns:\")\n",
    "print(charts.columns.tolist())\n",
    "\n",
    "print(\"\\nFEATURES columns:\")\n",
    "print(feats.columns.tolist())"
   ]
  },
  {
   "cell_type": "markdown",
   "id": "7e144bce-dc5e-4e31-b3ed-fb08a824f138",
   "metadata": {},
   "source": [
    "As the datasets have identical matches for Song and Performer, I merge the charts and audio features files into one dataframe."
   ]
  },
  {
   "cell_type": "code",
   "execution_count": 79,
   "id": "f6b6ee3c-a180-44cf-8348-599cdca10c49",
   "metadata": {},
   "outputs": [
    {
     "name": "stdout",
     "output_type": "stream",
     "text": [
      "Merged shape: (330217, 32)\n"
     ]
    },
    {
     "data": {
      "text/html": [
       "<div>\n",
       "<style scoped>\n",
       "    .dataframe tbody tr th:only-of-type {\n",
       "        vertical-align: middle;\n",
       "    }\n",
       "\n",
       "    .dataframe tbody tr th {\n",
       "        vertical-align: top;\n",
       "    }\n",
       "\n",
       "    .dataframe thead th {\n",
       "        text-align: right;\n",
       "    }\n",
       "</style>\n",
       "<table border=\"1\" class=\"dataframe\">\n",
       "  <thead>\n",
       "    <tr style=\"text-align: right;\">\n",
       "      <th></th>\n",
       "      <th>index_chart</th>\n",
       "      <th>url</th>\n",
       "      <th>WeekID</th>\n",
       "      <th>Week Position</th>\n",
       "      <th>Song</th>\n",
       "      <th>Performer</th>\n",
       "      <th>SongID_chart</th>\n",
       "      <th>Instance</th>\n",
       "      <th>Previous Week Position</th>\n",
       "      <th>Peak Position</th>\n",
       "      <th>...</th>\n",
       "      <th>loudness</th>\n",
       "      <th>mode</th>\n",
       "      <th>speechiness</th>\n",
       "      <th>acousticness</th>\n",
       "      <th>instrumentalness</th>\n",
       "      <th>liveness</th>\n",
       "      <th>valence</th>\n",
       "      <th>tempo</th>\n",
       "      <th>time_signature</th>\n",
       "      <th>spotify_track_popularity</th>\n",
       "    </tr>\n",
       "  </thead>\n",
       "  <tbody>\n",
       "    <tr>\n",
       "      <th>0</th>\n",
       "      <td>0</td>\n",
       "      <td>http://www.billboard.com/charts/hot-100/1965-0...</td>\n",
       "      <td>7/17/1965</td>\n",
       "      <td>34</td>\n",
       "      <td>Don't Just Stand There</td>\n",
       "      <td>Patty Duke</td>\n",
       "      <td>Don't Just Stand TherePatty Duke</td>\n",
       "      <td>1</td>\n",
       "      <td>45.0</td>\n",
       "      <td>34</td>\n",
       "      <td>...</td>\n",
       "      <td>-15.044</td>\n",
       "      <td>1.0</td>\n",
       "      <td>0.0298</td>\n",
       "      <td>0.61</td>\n",
       "      <td>0.000077</td>\n",
       "      <td>0.1</td>\n",
       "      <td>0.568</td>\n",
       "      <td>82.331</td>\n",
       "      <td>3.0</td>\n",
       "      <td>21.0</td>\n",
       "    </tr>\n",
       "    <tr>\n",
       "      <th>1</th>\n",
       "      <td>1</td>\n",
       "      <td>http://www.billboard.com/charts/hot-100/1965-0...</td>\n",
       "      <td>7/24/1965</td>\n",
       "      <td>22</td>\n",
       "      <td>Don't Just Stand There</td>\n",
       "      <td>Patty Duke</td>\n",
       "      <td>Don't Just Stand TherePatty Duke</td>\n",
       "      <td>1</td>\n",
       "      <td>34.0</td>\n",
       "      <td>22</td>\n",
       "      <td>...</td>\n",
       "      <td>-15.044</td>\n",
       "      <td>1.0</td>\n",
       "      <td>0.0298</td>\n",
       "      <td>0.61</td>\n",
       "      <td>0.000077</td>\n",
       "      <td>0.1</td>\n",
       "      <td>0.568</td>\n",
       "      <td>82.331</td>\n",
       "      <td>3.0</td>\n",
       "      <td>21.0</td>\n",
       "    </tr>\n",
       "    <tr>\n",
       "      <th>2</th>\n",
       "      <td>2</td>\n",
       "      <td>http://www.billboard.com/charts/hot-100/1965-0...</td>\n",
       "      <td>7/31/1965</td>\n",
       "      <td>14</td>\n",
       "      <td>Don't Just Stand There</td>\n",
       "      <td>Patty Duke</td>\n",
       "      <td>Don't Just Stand TherePatty Duke</td>\n",
       "      <td>1</td>\n",
       "      <td>22.0</td>\n",
       "      <td>14</td>\n",
       "      <td>...</td>\n",
       "      <td>-15.044</td>\n",
       "      <td>1.0</td>\n",
       "      <td>0.0298</td>\n",
       "      <td>0.61</td>\n",
       "      <td>0.000077</td>\n",
       "      <td>0.1</td>\n",
       "      <td>0.568</td>\n",
       "      <td>82.331</td>\n",
       "      <td>3.0</td>\n",
       "      <td>21.0</td>\n",
       "    </tr>\n",
       "  </tbody>\n",
       "</table>\n",
       "<p>3 rows × 32 columns</p>\n",
       "</div>"
      ],
      "text/plain": [
       "   index_chart                                                url     WeekID  \\\n",
       "0            0  http://www.billboard.com/charts/hot-100/1965-0...  7/17/1965   \n",
       "1            1  http://www.billboard.com/charts/hot-100/1965-0...  7/24/1965   \n",
       "2            2  http://www.billboard.com/charts/hot-100/1965-0...  7/31/1965   \n",
       "\n",
       "   Week Position                    Song   Performer  \\\n",
       "0             34  Don't Just Stand There  Patty Duke   \n",
       "1             22  Don't Just Stand There  Patty Duke   \n",
       "2             14  Don't Just Stand There  Patty Duke   \n",
       "\n",
       "                       SongID_chart  Instance  Previous Week Position  \\\n",
       "0  Don't Just Stand TherePatty Duke         1                    45.0   \n",
       "1  Don't Just Stand TherePatty Duke         1                    34.0   \n",
       "2  Don't Just Stand TherePatty Duke         1                    22.0   \n",
       "\n",
       "   Peak Position  ...  loudness  mode speechiness acousticness  \\\n",
       "0             34  ...   -15.044   1.0      0.0298         0.61   \n",
       "1             22  ...   -15.044   1.0      0.0298         0.61   \n",
       "2             14  ...   -15.044   1.0      0.0298         0.61   \n",
       "\n",
       "  instrumentalness liveness  valence   tempo time_signature  \\\n",
       "0         0.000077      0.1    0.568  82.331            3.0   \n",
       "1         0.000077      0.1    0.568  82.331            3.0   \n",
       "2         0.000077      0.1    0.568  82.331            3.0   \n",
       "\n",
       "   spotify_track_popularity  \n",
       "0                      21.0  \n",
       "1                      21.0  \n",
       "2                      21.0  \n",
       "\n",
       "[3 rows x 32 columns]"
      ]
     },
     "execution_count": 79,
     "metadata": {},
     "output_type": "execute_result"
    }
   ],
   "source": [
    "merged = charts.merge(\n",
    "    feats,\n",
    "    on=[\"Song\", \"Performer\"],  # columns that must match in both files\n",
    "    how=\"inner\",               # keep only rows that match on BOTH sides\n",
    "    suffixes=(\"_chart\", \"_feat\")\n",
    ")\n",
    "\n",
    "print(\"Merged shape:\", merged.shape)\n",
    "merged.head(3)"
   ]
  },
  {
   "cell_type": "markdown",
   "id": "04adae82-60e8-4e81-9510-ad2a0b1b6666",
   "metadata": {},
   "source": [
    "Many columns contain irrelevant information to the data analysis, so we define a set of columns to keep, removing columns such as the track_id or preview_url."
   ]
  },
  {
   "cell_type": "code",
   "execution_count": 80,
   "id": "9b735e2f-6a56-4cb1-a735-c8202054aef2",
   "metadata": {},
   "outputs": [],
   "source": [
    "keep_cols = ['index_chart',\n",
    " 'WeekID',\n",
    " 'Week Position',\n",
    " 'Song',\n",
    " 'Performer',\n",
    " 'SongID_chart',\n",
    " 'Instance',\n",
    " 'Peak Position',\n",
    " 'Weeks on Chart',\n",
    " 'spotify_genre',\n",
    " 'spotify_track_duration_ms',\n",
    " 'spotify_track_explicit',\n",
    " 'spotify_track_album',\n",
    " 'danceability',\n",
    " 'energy',\n",
    " 'key',\n",
    " 'loudness',\n",
    " 'mode',\n",
    " 'speechiness',\n",
    " 'acousticness',\n",
    " 'instrumentalness',\n",
    " 'liveness',\n",
    " 'valence',\n",
    " 'tempo',\n",
    " 'time_signature',\n",
    " 'spotify_track_popularity']"
   ]
  },
  {
   "cell_type": "code",
   "execution_count": 81,
   "id": "871dd55b-b8fc-4c49-a3e3-edf2186aac78",
   "metadata": {},
   "outputs": [],
   "source": [
    "merged = merged[keep_cols].copy()"
   ]
  },
  {
   "cell_type": "code",
   "execution_count": 82,
   "id": "ef77a62a-c215-48e8-b960-6c541536f7ef",
   "metadata": {},
   "outputs": [
    {
     "data": {
      "text/html": [
       "<div>\n",
       "<style scoped>\n",
       "    .dataframe tbody tr th:only-of-type {\n",
       "        vertical-align: middle;\n",
       "    }\n",
       "\n",
       "    .dataframe tbody tr th {\n",
       "        vertical-align: top;\n",
       "    }\n",
       "\n",
       "    .dataframe thead th {\n",
       "        text-align: right;\n",
       "    }\n",
       "</style>\n",
       "<table border=\"1\" class=\"dataframe\">\n",
       "  <thead>\n",
       "    <tr style=\"text-align: right;\">\n",
       "      <th></th>\n",
       "      <th>index_chart</th>\n",
       "      <th>WeekID</th>\n",
       "      <th>Week Position</th>\n",
       "      <th>Song</th>\n",
       "      <th>Performer</th>\n",
       "      <th>SongID_chart</th>\n",
       "      <th>Instance</th>\n",
       "      <th>Peak Position</th>\n",
       "      <th>Weeks on Chart</th>\n",
       "      <th>spotify_genre</th>\n",
       "      <th>...</th>\n",
       "      <th>loudness</th>\n",
       "      <th>mode</th>\n",
       "      <th>speechiness</th>\n",
       "      <th>acousticness</th>\n",
       "      <th>instrumentalness</th>\n",
       "      <th>liveness</th>\n",
       "      <th>valence</th>\n",
       "      <th>tempo</th>\n",
       "      <th>time_signature</th>\n",
       "      <th>spotify_track_popularity</th>\n",
       "    </tr>\n",
       "  </thead>\n",
       "  <tbody>\n",
       "    <tr>\n",
       "      <th>0</th>\n",
       "      <td>0</td>\n",
       "      <td>7/17/1965</td>\n",
       "      <td>34</td>\n",
       "      <td>Don't Just Stand There</td>\n",
       "      <td>Patty Duke</td>\n",
       "      <td>Don't Just Stand TherePatty Duke</td>\n",
       "      <td>1</td>\n",
       "      <td>34</td>\n",
       "      <td>4</td>\n",
       "      <td>['deep adult standards']</td>\n",
       "      <td>...</td>\n",
       "      <td>-15.044</td>\n",
       "      <td>1.0</td>\n",
       "      <td>0.0298</td>\n",
       "      <td>0.61</td>\n",
       "      <td>0.000077</td>\n",
       "      <td>0.1</td>\n",
       "      <td>0.568</td>\n",
       "      <td>82.331</td>\n",
       "      <td>3.0</td>\n",
       "      <td>21.0</td>\n",
       "    </tr>\n",
       "    <tr>\n",
       "      <th>1</th>\n",
       "      <td>1</td>\n",
       "      <td>7/24/1965</td>\n",
       "      <td>22</td>\n",
       "      <td>Don't Just Stand There</td>\n",
       "      <td>Patty Duke</td>\n",
       "      <td>Don't Just Stand TherePatty Duke</td>\n",
       "      <td>1</td>\n",
       "      <td>22</td>\n",
       "      <td>5</td>\n",
       "      <td>['deep adult standards']</td>\n",
       "      <td>...</td>\n",
       "      <td>-15.044</td>\n",
       "      <td>1.0</td>\n",
       "      <td>0.0298</td>\n",
       "      <td>0.61</td>\n",
       "      <td>0.000077</td>\n",
       "      <td>0.1</td>\n",
       "      <td>0.568</td>\n",
       "      <td>82.331</td>\n",
       "      <td>3.0</td>\n",
       "      <td>21.0</td>\n",
       "    </tr>\n",
       "    <tr>\n",
       "      <th>2</th>\n",
       "      <td>2</td>\n",
       "      <td>7/31/1965</td>\n",
       "      <td>14</td>\n",
       "      <td>Don't Just Stand There</td>\n",
       "      <td>Patty Duke</td>\n",
       "      <td>Don't Just Stand TherePatty Duke</td>\n",
       "      <td>1</td>\n",
       "      <td>14</td>\n",
       "      <td>6</td>\n",
       "      <td>['deep adult standards']</td>\n",
       "      <td>...</td>\n",
       "      <td>-15.044</td>\n",
       "      <td>1.0</td>\n",
       "      <td>0.0298</td>\n",
       "      <td>0.61</td>\n",
       "      <td>0.000077</td>\n",
       "      <td>0.1</td>\n",
       "      <td>0.568</td>\n",
       "      <td>82.331</td>\n",
       "      <td>3.0</td>\n",
       "      <td>21.0</td>\n",
       "    </tr>\n",
       "  </tbody>\n",
       "</table>\n",
       "<p>3 rows × 26 columns</p>\n",
       "</div>"
      ],
      "text/plain": [
       "   index_chart     WeekID  Week Position                    Song   Performer  \\\n",
       "0            0  7/17/1965             34  Don't Just Stand There  Patty Duke   \n",
       "1            1  7/24/1965             22  Don't Just Stand There  Patty Duke   \n",
       "2            2  7/31/1965             14  Don't Just Stand There  Patty Duke   \n",
       "\n",
       "                       SongID_chart  Instance  Peak Position  Weeks on Chart  \\\n",
       "0  Don't Just Stand TherePatty Duke         1             34               4   \n",
       "1  Don't Just Stand TherePatty Duke         1             22               5   \n",
       "2  Don't Just Stand TherePatty Duke         1             14               6   \n",
       "\n",
       "              spotify_genre  ...  loudness mode speechiness  acousticness  \\\n",
       "0  ['deep adult standards']  ...   -15.044  1.0      0.0298          0.61   \n",
       "1  ['deep adult standards']  ...   -15.044  1.0      0.0298          0.61   \n",
       "2  ['deep adult standards']  ...   -15.044  1.0      0.0298          0.61   \n",
       "\n",
       "   instrumentalness  liveness  valence   tempo  time_signature  \\\n",
       "0          0.000077       0.1    0.568  82.331             3.0   \n",
       "1          0.000077       0.1    0.568  82.331             3.0   \n",
       "2          0.000077       0.1    0.568  82.331             3.0   \n",
       "\n",
       "   spotify_track_popularity  \n",
       "0                      21.0  \n",
       "1                      21.0  \n",
       "2                      21.0  \n",
       "\n",
       "[3 rows x 26 columns]"
      ]
     },
     "execution_count": 82,
     "metadata": {},
     "output_type": "execute_result"
    }
   ],
   "source": [
    "merged.head(3)"
   ]
  },
  {
   "cell_type": "markdown",
   "id": "d1fbc512-0637-42c3-8400-86b986e15c5b",
   "metadata": {},
   "source": [
    "Remove any songs that are missing values within the audio feature columns."
   ]
  },
  {
   "cell_type": "code",
   "execution_count": 83,
   "id": "51698801-f91b-41e6-9500-c50c34328ddb",
   "metadata": {},
   "outputs": [
    {
     "name": "stdout",
     "output_type": "stream",
     "text": [
      "Dropped 43709 rows with missing feature values. Remaining: 286508\n"
     ]
    }
   ],
   "source": [
    "feature_cols = [\n",
    "    \"danceability\", \"energy\", \"valence\", \"tempo\", \"loudness\",\n",
    "    \"acousticness\", \"instrumentalness\", \"liveness\", \"speechiness\"\n",
    "]\n",
    "\n",
    "before = len(merged)\n",
    "merged = merged.dropna(subset=feature_cols)\n",
    "after = len(merged)\n",
    "\n",
    "print(f\"Dropped {before - after} rows with missing feature values. Remaining: {after}\")\n"
   ]
  },
  {
   "cell_type": "markdown",
   "id": "3162f620-7cfb-4c9e-baff-48fd5cb23359",
   "metadata": {},
   "source": [
    "Since this dataset tracks the Billboard Hot 100 per week, many songs appear several times within the chart. For the sake of simplicity and a broader view of the data, I will only be using the Peak Position of each song. This means all other instances less than the Peak Position will be deleted.\n",
    "\n",
    "This results in sparser data per year but information like longevity is still kept in the \"Weeks on Chart\" column. "
   ]
  },
  {
   "cell_type": "code",
   "execution_count": 84,
   "id": "3355a465-a517-4bee-b56e-11949ec43c3e",
   "metadata": {},
   "outputs": [
    {
     "data": {
      "text/plain": [
       "286508"
      ]
     },
     "execution_count": 84,
     "metadata": {},
     "output_type": "execute_result"
    }
   ],
   "source": [
    "merged_sorted = merged.sort_values(\"Week Position\", ascending=True)\n",
    "len(merged_sorted)"
   ]
  },
  {
   "cell_type": "markdown",
   "id": "f6fec9e5-690a-420c-8e74-408f484f84dd",
   "metadata": {},
   "source": [
    "Delete duplicates that have the same song name and artist, only keeping the first instance (the highest position based off our previous line of code)"
   ]
  },
  {
   "cell_type": "code",
   "execution_count": 85,
   "id": "f74e4e54-5e50-4e1f-ade9-dfc5c2fb5959",
   "metadata": {},
   "outputs": [
    {
     "name": "stdout",
     "output_type": "stream",
     "text": [
      "Unique songs kept: 24221\n"
     ]
    }
   ],
   "source": [
    "peak_songs = (\n",
    "    merged_sorted\n",
    "    .drop_duplicates(subset=[\"Song\", \"Performer\"], keep=\"first\")\n",
    "    .copy()\n",
    ")\n",
    "\n",
    "print(\"Unique songs kept:\", len(peak_songs))\n"
   ]
  },
  {
   "cell_type": "markdown",
   "id": "96b0c39a-4daf-4846-ad31-f30118ae5d09",
   "metadata": {},
   "source": [
    "Keep only the songs between the Billboard position of 1-50, effectively cutting the data set in half."
   ]
  },
  {
   "cell_type": "code",
   "execution_count": 86,
   "id": "e0ab7894-f55f-4c9f-9752-2c0ea3b05f7b",
   "metadata": {},
   "outputs": [
    {
     "name": "stdout",
     "output_type": "stream",
     "text": [
      "Songs that peaked in Top-50: 13732\n"
     ]
    }
   ],
   "source": [
    "peak_top50 = peak_songs.loc[peak_songs[\"Week Position\"] <= 50].copy()\n",
    "print(\"Songs that peaked in Top-50:\", len(peak_top50))"
   ]
  },
  {
   "cell_type": "markdown",
   "id": "724c13a0-b542-4fc3-84b8-811d67644d46",
   "metadata": {},
   "source": [
    "Convert the WeekID into a more readable and consistent format."
   ]
  },
  {
   "cell_type": "code",
   "execution_count": 87,
   "id": "d3c568e5-efac-422e-9447-2f40ec3947bf",
   "metadata": {},
   "outputs": [],
   "source": [
    "peak_top50[\"chart_week\"] = pd.to_datetime(peak_top50[\"WeekID\"], errors=\"coerce\")"
   ]
  },
  {
   "cell_type": "code",
   "execution_count": 88,
   "id": "420b79cc-218b-4ad0-82eb-24120fa2964e",
   "metadata": {},
   "outputs": [
    {
     "data": {
      "text/plain": [
       "['index_chart',\n",
       " 'WeekID',\n",
       " 'Week Position',\n",
       " 'Song',\n",
       " 'Performer',\n",
       " 'SongID_chart',\n",
       " 'Instance',\n",
       " 'Peak Position',\n",
       " 'Weeks on Chart',\n",
       " 'spotify_genre',\n",
       " 'spotify_track_duration_ms',\n",
       " 'spotify_track_explicit',\n",
       " 'spotify_track_album',\n",
       " 'danceability',\n",
       " 'energy',\n",
       " 'key',\n",
       " 'loudness',\n",
       " 'mode',\n",
       " 'speechiness',\n",
       " 'acousticness',\n",
       " 'instrumentalness',\n",
       " 'liveness',\n",
       " 'valence',\n",
       " 'tempo',\n",
       " 'time_signature',\n",
       " 'spotify_track_popularity',\n",
       " 'chart_week']"
      ]
     },
     "execution_count": 88,
     "metadata": {},
     "output_type": "execute_result"
    }
   ],
   "source": [
    "peak_top50.columns.tolist()"
   ]
  },
  {
   "cell_type": "code",
   "execution_count": 89,
   "id": "e5373a29-2969-4aff-ac21-063e6a65379f",
   "metadata": {},
   "outputs": [
    {
     "data": {
      "text/html": [
       "<div>\n",
       "<style scoped>\n",
       "    .dataframe tbody tr th:only-of-type {\n",
       "        vertical-align: middle;\n",
       "    }\n",
       "\n",
       "    .dataframe tbody tr th {\n",
       "        vertical-align: top;\n",
       "    }\n",
       "\n",
       "    .dataframe thead th {\n",
       "        text-align: right;\n",
       "    }\n",
       "</style>\n",
       "<table border=\"1\" class=\"dataframe\">\n",
       "  <thead>\n",
       "    <tr style=\"text-align: right;\">\n",
       "      <th></th>\n",
       "      <th>index_chart</th>\n",
       "      <th>WeekID</th>\n",
       "      <th>Week Position</th>\n",
       "      <th>Song</th>\n",
       "      <th>Performer</th>\n",
       "      <th>SongID_chart</th>\n",
       "      <th>Instance</th>\n",
       "      <th>Peak Position</th>\n",
       "      <th>Weeks on Chart</th>\n",
       "      <th>spotify_genre</th>\n",
       "      <th>...</th>\n",
       "      <th>mode</th>\n",
       "      <th>speechiness</th>\n",
       "      <th>acousticness</th>\n",
       "      <th>instrumentalness</th>\n",
       "      <th>liveness</th>\n",
       "      <th>valence</th>\n",
       "      <th>tempo</th>\n",
       "      <th>time_signature</th>\n",
       "      <th>spotify_track_popularity</th>\n",
       "      <th>chart_week</th>\n",
       "    </tr>\n",
       "  </thead>\n",
       "  <tbody>\n",
       "    <tr>\n",
       "      <th>93356</th>\n",
       "      <td>92943</td>\n",
       "      <td>1/3/1981</td>\n",
       "      <td>1</td>\n",
       "      <td>(Just Like) Starting Over</td>\n",
       "      <td>John Lennon</td>\n",
       "      <td>(Just Like) Starting OverJohn Lennon</td>\n",
       "      <td>1</td>\n",
       "      <td>1</td>\n",
       "      <td>10</td>\n",
       "      <td>['album rock', 'classic rock', 'folk rock', 'm...</td>\n",
       "      <td>...</td>\n",
       "      <td>1.0</td>\n",
       "      <td>0.0725</td>\n",
       "      <td>0.301</td>\n",
       "      <td>0.000061</td>\n",
       "      <td>0.179</td>\n",
       "      <td>0.421</td>\n",
       "      <td>99.104</td>\n",
       "      <td>4.0</td>\n",
       "      <td>57.0</td>\n",
       "      <td>1981-01-03</td>\n",
       "    </tr>\n",
       "    <tr>\n",
       "      <th>290479</th>\n",
       "      <td>288686</td>\n",
       "      <td>3/13/1982</td>\n",
       "      <td>1</td>\n",
       "      <td>Centerfold</td>\n",
       "      <td>The J. Geils Band</td>\n",
       "      <td>CenterfoldThe J. Geils Band</td>\n",
       "      <td>1</td>\n",
       "      <td>1</td>\n",
       "      <td>19</td>\n",
       "      <td>['album rock', 'blues rock', 'classic rock', '...</td>\n",
       "      <td>...</td>\n",
       "      <td>1.0</td>\n",
       "      <td>0.0396</td>\n",
       "      <td>0.249</td>\n",
       "      <td>0.000000</td>\n",
       "      <td>0.403</td>\n",
       "      <td>0.888</td>\n",
       "      <td>114.370</td>\n",
       "      <td>4.0</td>\n",
       "      <td>72.0</td>\n",
       "      <td>1982-03-13</td>\n",
       "    </tr>\n",
       "    <tr>\n",
       "      <th>290480</th>\n",
       "      <td>288687</td>\n",
       "      <td>12/4/1999</td>\n",
       "      <td>1</td>\n",
       "      <td>Smooth</td>\n",
       "      <td>Santana Featuring Rob Thomas</td>\n",
       "      <td>SmoothSantana Featuring Rob Thomas</td>\n",
       "      <td>1</td>\n",
       "      <td>1</td>\n",
       "      <td>19</td>\n",
       "      <td>['blues rock', 'classic rock']</td>\n",
       "      <td>...</td>\n",
       "      <td>1.0</td>\n",
       "      <td>0.0338</td>\n",
       "      <td>0.160</td>\n",
       "      <td>0.000005</td>\n",
       "      <td>0.295</td>\n",
       "      <td>0.961</td>\n",
       "      <td>115.996</td>\n",
       "      <td>4.0</td>\n",
       "      <td>71.0</td>\n",
       "      <td>1999-12-04</td>\n",
       "    </tr>\n",
       "  </tbody>\n",
       "</table>\n",
       "<p>3 rows × 27 columns</p>\n",
       "</div>"
      ],
      "text/plain": [
       "        index_chart     WeekID  Week Position                       Song  \\\n",
       "93356         92943   1/3/1981              1  (Just Like) Starting Over   \n",
       "290479       288686  3/13/1982              1                 Centerfold   \n",
       "290480       288687  12/4/1999              1                     Smooth   \n",
       "\n",
       "                           Performer                          SongID_chart  \\\n",
       "93356                    John Lennon  (Just Like) Starting OverJohn Lennon   \n",
       "290479             The J. Geils Band           CenterfoldThe J. Geils Band   \n",
       "290480  Santana Featuring Rob Thomas    SmoothSantana Featuring Rob Thomas   \n",
       "\n",
       "        Instance  Peak Position  Weeks on Chart  \\\n",
       "93356          1              1              10   \n",
       "290479         1              1              19   \n",
       "290480         1              1              19   \n",
       "\n",
       "                                            spotify_genre  ...  mode  \\\n",
       "93356   ['album rock', 'classic rock', 'folk rock', 'm...  ...   1.0   \n",
       "290479  ['album rock', 'blues rock', 'classic rock', '...  ...   1.0   \n",
       "290480                     ['blues rock', 'classic rock']  ...   1.0   \n",
       "\n",
       "       speechiness acousticness  instrumentalness  liveness  valence    tempo  \\\n",
       "93356       0.0725        0.301          0.000061     0.179    0.421   99.104   \n",
       "290479      0.0396        0.249          0.000000     0.403    0.888  114.370   \n",
       "290480      0.0338        0.160          0.000005     0.295    0.961  115.996   \n",
       "\n",
       "        time_signature  spotify_track_popularity  chart_week  \n",
       "93356              4.0                      57.0  1981-01-03  \n",
       "290479             4.0                      72.0  1982-03-13  \n",
       "290480             4.0                      71.0  1999-12-04  \n",
       "\n",
       "[3 rows x 27 columns]"
      ]
     },
     "execution_count": 89,
     "metadata": {},
     "output_type": "execute_result"
    }
   ],
   "source": [
    "peak_top50.head(3)"
   ]
  },
  {
   "cell_type": "code",
   "execution_count": 90,
   "id": "01416df3-4225-481c-b103-271a2089a1e8",
   "metadata": {},
   "outputs": [],
   "source": [
    "peak_top50.drop(['WeekID', 'Instance', 'Peak Position', 'spotify_track_album'], axis=1, inplace=True)\n",
    "peak_top50.rename(columns={'index_chart': 'index', 'SongID_chart' : 'SongID', 'spotify_genre' : 'genre',\n",
    " 'spotify_track_duration_ms' : 'duration',\n",
    " 'spotify_track_explicit' : 'explicit', 'spotify_track_popularity' : 'popularity'\n",
    " }, inplace=True)"
   ]
  },
  {
   "cell_type": "code",
   "execution_count": 91,
   "id": "2fd78bf9-0a2a-4e06-ba3f-8c009c371096",
   "metadata": {},
   "outputs": [
    {
     "data": {
      "text/plain": [
       "['index',\n",
       " 'Week Position',\n",
       " 'Song',\n",
       " 'Performer',\n",
       " 'SongID',\n",
       " 'Weeks on Chart',\n",
       " 'genre',\n",
       " 'duration',\n",
       " 'explicit',\n",
       " 'danceability',\n",
       " 'energy',\n",
       " 'key',\n",
       " 'loudness',\n",
       " 'mode',\n",
       " 'speechiness',\n",
       " 'acousticness',\n",
       " 'instrumentalness',\n",
       " 'liveness',\n",
       " 'valence',\n",
       " 'tempo',\n",
       " 'time_signature',\n",
       " 'popularity',\n",
       " 'chart_week']"
      ]
     },
     "execution_count": 91,
     "metadata": {},
     "output_type": "execute_result"
    }
   ],
   "source": [
    "peak_top50.head(3)\n",
    "peak_top50.columns.tolist()"
   ]
  },
  {
   "cell_type": "code",
   "execution_count": null,
   "id": "d25f184c-9100-4216-9a73-d5e39ae200fc",
   "metadata": {},
   "outputs": [],
   "source": []
  }
 ],
 "metadata": {
  "kernelspec": {
   "display_name": "Python (billboard)",
   "language": "python",
   "name": "billboard-audio-trends"
  },
  "language_info": {
   "codemirror_mode": {
    "name": "ipython",
    "version": 3
   },
   "file_extension": ".py",
   "mimetype": "text/x-python",
   "name": "python",
   "nbconvert_exporter": "python",
   "pygments_lexer": "ipython3",
   "version": "3.9.6"
  }
 },
 "nbformat": 4,
 "nbformat_minor": 5
}
