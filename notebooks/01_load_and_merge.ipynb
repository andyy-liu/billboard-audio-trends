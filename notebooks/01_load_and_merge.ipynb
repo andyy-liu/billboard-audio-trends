{
 "cells": [
  {
   "cell_type": "code",
   "execution_count": null,
   "id": "93412ea9-00bb-46b6-a76c-4ffb6e77be34",
   "metadata": {},
   "outputs": [],
   "source": [
    "import pandas as pd\n",
    "import numpy as np\n",
    "from pathlib import Path\n",
    "\n",
    "RAW = Path(\"../data/raw\")\n",
    "PROC = Path(\"../data/processed\")\n",
    "PROC.mkdir(parents=True, exist_ok=True)\n",
    "\n",
    "charts_path = RAW / \"Hot Stuff.csv\"\n",
    "feats_path  = RAW / \"Hot 100 Audio Features.csv\"\n",
    "\n",
    "charts = pd.read_csv(charts_path)\n",
    "feats  = pd.read_csv(feats_path)\n",
    "\n",
    "charts.head(), feats.head()"
   ]
  }
 ],
 "metadata": {
  "kernelspec": {
   "display_name": "Python (billboard)",
   "language": "python",
   "name": "billboard-audio-trends"
  },
  "language_info": {
   "codemirror_mode": {
    "name": "ipython",
    "version": 3
   },
   "file_extension": ".py",
   "mimetype": "text/x-python",
   "name": "python",
   "nbconvert_exporter": "python",
   "pygments_lexer": "ipython3",
   "version": "3.9.6"
  }
 },
 "nbformat": 4,
 "nbformat_minor": 5
}
